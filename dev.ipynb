{
 "cells": [
  {
   "cell_type": "code",
   "execution_count": 3,
   "metadata": {},
   "outputs": [],
   "source": [
    "import os\n",
    "import re\n",
    "\n",
    "def sql_chunks(filename):\n",
    "    with(open(filename, \"r\")) as the_file: \n",
    "        the_md = the_file.readlines()\n",
    "        in_chunk = False\n",
    "        new_md = []\n",
    "\n",
    "        def look_around(doc, regex, line_number, around = 1):\n",
    "            def search(reg, ln):\n",
    "                return(bool(re.search(pattern = reg, string = ln)))\n",
    "            tr = []\n",
    "            for k in range(around * 2 + 1):\n",
    "                try:\n",
    "                    tr.append(search(regex, doc[line_number - around + k]))\n",
    "                except IndexError: \n",
    "                    tr.append(False)\n",
    "\n",
    "            return(tr)\n",
    "\n",
    "        for i in range(len(the_md)):\n",
    "            _, _, currl_code, nxtl_code, nxxtl_code = look_around(the_md, r'^\\ {4}', i, 2)\n",
    "            _, _, currl_n, nxtl_n, nxxtl_n = look_around(the_md, r'\\n', i, 2)\n",
    "            if (currl_code and nxtl_code) or (not in_chunk and currl_code and nxtl_n and nxxtl_code):\n",
    "                #case: start of block\n",
    "                #print \"Match!\"\n",
    "                in_chunk = True\n",
    "                new_md.append('```sql')\n",
    "                new_md.append(the_md[i])\n",
    "                #case: end of block\n",
    "            elif currl_code and (not nxtl_code and not nxxtl_code):\n",
    "                new_md.append(the_md[i])\n",
    "                new_md.append('```')\n",
    "                in_chunk = False\n",
    "            elif in_chunk and not (nxtl_code or nxtl_n) and not (nxxtl_code or nxxtl_n):\n",
    "                new_md.append(the_md[i])\n",
    "                in_chunk = False\n",
    "            else: \n",
    "                new_md.append(the_md[i])\n",
    "\n",
    "    return(new_md)\n",
    "\n",
    "def write_md(fl, flnm):\n",
    "    with(open(flnm, 'w')) as new_fl:\n",
    "        new_fl.writelines(fl)\n",
    "    return(True)\n",
    "\n",
    "os.makedirs(\"sql_md\")\n",
    "\n",
    "filenames = sorted(os.listdir(\"./md\"))\n",
    "[write_md(sql_chunks(\"./md/\" + flnm), \"./sql_md/\" + flnm) for flnm in filenames]"
   ]
  },
  {
   "cell_type": "code",
   "execution_count": null,
   "metadata": {},
   "outputs": [],
   "source": []
  },
  {
   "cell_type": "code",
   "execution_count": null,
   "metadata": {},
   "outputs": [],
   "source": []
  },
  {
   "cell_type": "code",
   "execution_count": null,
   "metadata": {},
   "outputs": [],
   "source": []
  },
  {
   "cell_type": "raw",
   "metadata": {},
   "source": [
    "with(open(\"md/General.md\", \"r\")) as the_file: \n",
    "    the_md = the_file.readlines()\n",
    "    in_chunk = False\n",
    "    new_md = []\n",
    "    def look_around(doc, regex, line_number):\n",
    "        def search(reg, ln):\n",
    "            return(bool(re.search(pattern = reg, string = ln)))\n",
    "        tr = []\n",
    "        around = 1\n",
    "        if line_number <= around:\n",
    "            [tr.append(False) for _ in range(around)]\n",
    "            [tr.append(search(regex, doc[line_number + k])) for k in range(around) + 1]\n",
    "            \n",
    "        else: \n",
    "            tr = [search(regex, doc[line_number - around + k]) for k in range(around * 2 + 1)]\n",
    "        \n",
    "        return(tr)\n",
    "   \n",
    "    lp(look_around(the_md, r'^ {4}', 16))\n",
    "\n",
    "\n",
    "    lp(look_around(the_md, r'^ {4}', 16))\n",
    "\n",
    "\n"
   ]
  }
 ],
 "metadata": {
  "kernelspec": {
   "display_name": "Python 2",
   "language": "python",
   "name": "python2"
  },
  "language_info": {
   "codemirror_mode": {
    "name": "ipython",
    "version": 2
   },
   "file_extension": ".py",
   "mimetype": "text/x-python",
   "name": "python",
   "nbconvert_exporter": "python",
   "pygments_lexer": "ipython2",
   "version": "2.7.15"
  }
 },
 "nbformat": 4,
 "nbformat_minor": 2
}
